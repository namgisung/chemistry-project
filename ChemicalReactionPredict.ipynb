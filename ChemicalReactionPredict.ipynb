{
  "nbformat": 4,
  "nbformat_minor": 0,
  "metadata": {
    "colab": {
      "provenance": [],
      "include_colab_link": true
    },
    "kernelspec": {
      "name": "python3",
      "display_name": "Python 3"
    },
    "language_info": {
      "name": "python"
    }
  },
  "cells": [
    {
      "cell_type": "markdown",
      "metadata": {
        "id": "view-in-github",
        "colab_type": "text"
      },
      "source": [
        "<a href=\"https://colab.research.google.com/github/namgisung/chemistry-project/blob/master/ChemicalReactionPredict.ipynb\" target=\"_parent\"><img src=\"https://colab.research.google.com/assets/colab-badge.svg\" alt=\"Open In Colab\"/></a>"
      ]
    },
    {
      "cell_type": "code",
      "execution_count": 2,
      "metadata": {
        "id": "_lQQSYkrThdK",
        "outputId": "b7da4458-fba6-4422-ffa5-e15008ba3788",
        "colab": {
          "base_uri": "https://localhost:8080/",
          "height": 385
        }
      },
      "outputs": [
        {
          "output_type": "error",
          "ename": "KeyboardInterrupt",
          "evalue": "Interrupted by user",
          "traceback": [
            "\u001b[0;31m---------------------------------------------------------------------------\u001b[0m",
            "\u001b[0;31mKeyboardInterrupt\u001b[0m                         Traceback (most recent call last)",
            "\u001b[0;32m<ipython-input-2-5b75fa1784eb>\u001b[0m in \u001b[0;36m<cell line: 27>\u001b[0;34m()\u001b[0m\n\u001b[1;32m     25\u001b[0m         \u001b[0mprint\u001b[0m\u001b[0;34m(\u001b[0m\u001b[0;34m\"평형상태임.\"\u001b[0m\u001b[0;34m)\u001b[0m\u001b[0;34m\u001b[0m\u001b[0;34m\u001b[0m\u001b[0m\n\u001b[1;32m     26\u001b[0m \u001b[0;34m\u001b[0m\u001b[0m\n\u001b[0;32m---> 27\u001b[0;31m \u001b[0mnum_reactants\u001b[0m \u001b[0;34m=\u001b[0m \u001b[0mint\u001b[0m\u001b[0;34m(\u001b[0m\u001b[0minput\u001b[0m\u001b[0;34m(\u001b[0m\u001b[0;34m\"반응물의 물질 개수: \"\u001b[0m\u001b[0;34m)\u001b[0m\u001b[0;34m)\u001b[0m\u001b[0;34m\u001b[0m\u001b[0;34m\u001b[0m\u001b[0m\n\u001b[0m\u001b[1;32m     28\u001b[0m \u001b[0mnum_products\u001b[0m \u001b[0;34m=\u001b[0m \u001b[0mint\u001b[0m\u001b[0;34m(\u001b[0m\u001b[0minput\u001b[0m\u001b[0;34m(\u001b[0m\u001b[0;34m\"생성물의 물질 개수: \"\u001b[0m\u001b[0;34m)\u001b[0m\u001b[0;34m)\u001b[0m\u001b[0;34m\u001b[0m\u001b[0;34m\u001b[0m\u001b[0m\n\u001b[1;32m     29\u001b[0m \u001b[0;34m\u001b[0m\u001b[0m\n",
            "\u001b[0;32m/usr/local/lib/python3.10/dist-packages/ipykernel/kernelbase.py\u001b[0m in \u001b[0;36mraw_input\u001b[0;34m(self, prompt)\u001b[0m\n\u001b[1;32m    849\u001b[0m                 \u001b[0;34m\"raw_input was called, but this frontend does not support input requests.\"\u001b[0m\u001b[0;34m\u001b[0m\u001b[0;34m\u001b[0m\u001b[0m\n\u001b[1;32m    850\u001b[0m             )\n\u001b[0;32m--> 851\u001b[0;31m         return self._input_request(str(prompt),\n\u001b[0m\u001b[1;32m    852\u001b[0m             \u001b[0mself\u001b[0m\u001b[0;34m.\u001b[0m\u001b[0m_parent_ident\u001b[0m\u001b[0;34m,\u001b[0m\u001b[0;34m\u001b[0m\u001b[0;34m\u001b[0m\u001b[0m\n\u001b[1;32m    853\u001b[0m             \u001b[0mself\u001b[0m\u001b[0;34m.\u001b[0m\u001b[0m_parent_header\u001b[0m\u001b[0;34m,\u001b[0m\u001b[0;34m\u001b[0m\u001b[0;34m\u001b[0m\u001b[0m\n",
            "\u001b[0;32m/usr/local/lib/python3.10/dist-packages/ipykernel/kernelbase.py\u001b[0m in \u001b[0;36m_input_request\u001b[0;34m(self, prompt, ident, parent, password)\u001b[0m\n\u001b[1;32m    893\u001b[0m             \u001b[0;32mexcept\u001b[0m \u001b[0mKeyboardInterrupt\u001b[0m\u001b[0;34m:\u001b[0m\u001b[0;34m\u001b[0m\u001b[0;34m\u001b[0m\u001b[0m\n\u001b[1;32m    894\u001b[0m                 \u001b[0;31m# re-raise KeyboardInterrupt, to truncate traceback\u001b[0m\u001b[0;34m\u001b[0m\u001b[0;34m\u001b[0m\u001b[0m\n\u001b[0;32m--> 895\u001b[0;31m                 \u001b[0;32mraise\u001b[0m \u001b[0mKeyboardInterrupt\u001b[0m\u001b[0;34m(\u001b[0m\u001b[0;34m\"Interrupted by user\"\u001b[0m\u001b[0;34m)\u001b[0m \u001b[0;32mfrom\u001b[0m \u001b[0;32mNone\u001b[0m\u001b[0;34m\u001b[0m\u001b[0;34m\u001b[0m\u001b[0m\n\u001b[0m\u001b[1;32m    896\u001b[0m             \u001b[0;32mexcept\u001b[0m \u001b[0mException\u001b[0m \u001b[0;32mas\u001b[0m \u001b[0me\u001b[0m\u001b[0;34m:\u001b[0m\u001b[0;34m\u001b[0m\u001b[0;34m\u001b[0m\u001b[0m\n\u001b[1;32m    897\u001b[0m                 \u001b[0mself\u001b[0m\u001b[0;34m.\u001b[0m\u001b[0mlog\u001b[0m\u001b[0;34m.\u001b[0m\u001b[0mwarning\u001b[0m\u001b[0;34m(\u001b[0m\u001b[0;34m\"Invalid Message:\"\u001b[0m\u001b[0;34m,\u001b[0m \u001b[0mexc_info\u001b[0m\u001b[0;34m=\u001b[0m\u001b[0;32mTrue\u001b[0m\u001b[0;34m)\u001b[0m\u001b[0;34m\u001b[0m\u001b[0;34m\u001b[0m\u001b[0m\n",
            "\u001b[0;31mKeyboardInterrupt\u001b[0m: Interrupted by user"
          ]
        }
      ],
      "source": [
        "import math\n",
        "\n",
        "def calculate_equilibrium_constant(reactant_concentrations, product_concentrations, reactant_coefficients, product_coefficients):\n",
        "    equilibrium_constant = 1.0\n",
        "    for i in range(len(product_concentrations)):\n",
        "        equilibrium_constant *= product_concentrations[i] ** product_coefficients[i]\n",
        "    for i in range(len(reactant_concentrations)):\n",
        "        equilibrium_constant /= reactant_concentrations[i] ** reactant_coefficients[i]\n",
        "    return equilibrium_constant\n",
        "\n",
        "def calculate_reaction_index(reactant_concentrations, product_concentrations, reactant_coefficients, product_coefficients):\n",
        "    reaction_index = 0.0\n",
        "    for i in range(len(product_concentrations)):\n",
        "        reaction_index += product_coefficients[i] * math.log(product_concentrations[i])\n",
        "    for i in range(len(reactant_concentrations)):\n",
        "        reaction_index -= reactant_coefficients[i] * math.log(reactant_concentrations[i])\n",
        "    return reaction_index\n",
        "\n",
        "def predict_chemical_reaction(equilibrium_constant, reaction_index):\n",
        "    if reaction_index > 0:\n",
        "        print(\"이 반응은 정방향으로 반응한다.\")\n",
        "    elif reaction_index < 0:\n",
        "        print(\"이 반응은 역방향으로 반응한다.\")\n",
        "    else:\n",
        "        print(\"평형상태임.\")\n",
        "\n",
        "num_reactants = int(input(\"반응물의 물질 개수: \"))\n",
        "num_products = int(input(\"생성물의 물질 개수: \"))\n",
        "\n",
        "reactant_concentrations = []\n",
        "reactant_coefficients = []\n",
        "product_concentrations = []\n",
        "product_coefficients = []\n",
        "\n",
        "print(\"반응물의 평형 농도와 화학 반응 계수를 입력:\")\n",
        "for i in range(num_reactants):\n",
        "    concentration = float(input(f\"반응물 {i +1}의 평형 농도: \"))\n",
        "    coefficient = int(input(f\"반응물 {i + 1}의 화학 반응 개수: \"))\n",
        "    reactant_concentrations.append(concentration)\n",
        "    reactant_coefficients.append(coefficient)\n",
        "\n",
        "print(\"생성물의 평형 농도와 화학 반응 계수를 입력:\")\n",
        "for i in range(num_products):\n",
        "    concentration = float(input(f\"생성물 {i +1}의 평형 농도: \"))\n",
        "    coefficient = int(input(f\"생성물 {i +1}의 화학 반응 개수: \"))\n",
        "    product_concentrations.append(concentration)\n",
        "    product_coefficients.append(coefficient)\n",
        "\n",
        "equilibrium_constant = calculate_equilibrium_constant(reactant_concentrations, product_concentrations, reactant_coefficients, product_coefficients)\n",
        "reaction_index = calculate_reaction_index(reactant_concentrations, product_concentrations, reactant_coefficients, product_coefficients)\n",
        "\n",
        "print(\"평형 상수:\", equilibrium_constant)\n",
        "print(\"반응 지수:\", reaction_index)\n",
        "\n",
        "predict_chemical_reaction(equilibrium_constant, reaction_index)\n",
        "\n"
      ]
    }
  ]
}