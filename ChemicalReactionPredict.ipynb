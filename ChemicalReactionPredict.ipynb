{
  "nbformat": 4,
  "nbformat_minor": 0,
  "metadata": {
    "colab": {
      "provenance": [],
      "include_colab_link": true
    },
    "kernelspec": {
      "name": "python3",
      "display_name": "Python 3"
    },
    "language_info": {
      "name": "python"
    }
  },
  "cells": [
    {
      "cell_type": "markdown",
      "metadata": {
        "id": "view-in-github",
        "colab_type": "text"
      },
      "source": [
        "<a href=\"https://colab.research.google.com/github/namgisung/chemistry-project/blob/master/ChemicalReactionPredict.ipynb\" target=\"_parent\"><img src=\"https://colab.research.google.com/assets/colab-badge.svg\" alt=\"Open In Colab\"/></a>"
      ]
    },
    {
      "cell_type": "code",
      "execution_count": null,
      "metadata": {
        "id": "_lQQSYkrThdK"
      },
      "outputs": [],
      "source": [
        "import math\n",
        "\n",
        "def calculate_equilibrium_constant(reactant_concentrations, product_concentrations, reactant_coefficients, product_coefficients):\n",
        "    equilibrium_constant = 1.0\n",
        "    for i in range(len(product_concentrations)):\n",
        "        equilibrium_constant *= product_concentrations[i] ** product_coefficients[i]\n",
        "    for i in range(len(reactant_concentrations)):\n",
        "        equilibrium_constant /= reactant_concentrations[i] ** reactant_coefficients[i]\n",
        "    return equilibrium_constant\n",
        "\n",
        "def calculate_reaction_index(reactant_concentrations, product_concentrations, reactant_coefficients, product_coefficients):\n",
        "    reaction_index = 0.0\n",
        "    for i in range(len(product_concentrations)):\n",
        "        reaction_index += product_coefficients[i] * math.log(product_concentrations[i])\n",
        "    for i in range(len(reactant_concentrations)):\n",
        "        reaction_index -= reactant_coefficients[i] * math.log(reactant_concentrations[i])\n",
        "    return reaction_index\n",
        "\n",
        "def predict_chemical_reaction(equilibrium_constant, reaction_index):\n",
        "    if reaction_index > 0:\n",
        "        print(\"이 반응은 정방향으로 반응한다.\")\n",
        "    elif reaction_index < 0:\n",
        "        print(\"이 반응은 역방향으로 반응한다.\")\n",
        "    else:\n",
        "        print(\"평형상태임.\")\n",
        "\n",
        "num_reactants = int(input(\"반응물의 물질 개수: \"))\n",
        "num_products = int(input(\"생성물의 물질 개수: \"))\n",
        "\n",
        "reactant_concentrations = []\n",
        "reactant_coefficients = []\n",
        "product_concentrations = []\n",
        "product_coefficients = []\n",
        "\n",
        "print(\"반응물의 몰농도와 화학양론적 계수를 입력:\")\n",
        "for i in range(num_reactants):\n",
        "    concentration = float(input(f\"반응물 {i +1}의 몰농도: \"))\n",
        "    coefficient = int(input(f\"반응물 {i + 1}의 화학 양론적 개수: \"))\n",
        "    reactant_concentrations.append(concentration)\n",
        "    reactant_coefficients.append(coefficient)\n",
        "\n",
        "print(\"생성물의 몰농도와 화학양론적 계수를 입력:\")\n",
        "for i in range(num_products):\n",
        "    concentration = float(input(f\"생성물 {i +1}의 몰농도: \"))\n",
        "    coefficient = int(input(f\"생성물 {i +1}의 화학 양론적 개수: \"))\n",
        "    product_concentrations.append(concentration)\n",
        "    product_coefficients.append(coefficient)\n",
        "\n",
        "equilibrium_constant = calculate_equilibrium_constant(reactant_concentrations, product_concentrations, reactant_coefficients, product_coefficients)\n",
        "reaction_index = calculate_reaction_index(reactant_concentrations, product_concentrations, reactant_coefficients, product_coefficients)\n",
        "\n",
        "print(\"평형 상수:\", equilibrium_constant)\n",
        "print(\"반응 지수:\", reaction_index)\n",
        "\n",
        "predict_chemical_reaction(equilibrium_constant, reaction_index)\n",
        "\n"
      ]
    }
  ]
}