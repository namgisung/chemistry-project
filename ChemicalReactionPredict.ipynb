{
  "nbformat": 4,
  "nbformat_minor": 0,
  "metadata": {
    "colab": {
      "provenance": [],
      "include_colab_link": true
    },
    "kernelspec": {
      "name": "python3",
      "display_name": "Python 3"
    },
    "language_info": {
      "name": "python"
    }
  },
  "cells": [
    {
      "cell_type": "markdown",
      "metadata": {
        "id": "view-in-github",
        "colab_type": "text"
      },
      "source": [
        "<a href=\"https://colab.research.google.com/github/namgisung/chemistry-project/blob/master/ChemicalReactionPredict.ipynb\" target=\"_parent\"><img src=\"https://colab.research.google.com/assets/colab-badge.svg\" alt=\"Open In Colab\"/></a>"
      ]
    },
    {
      "cell_type": "code",
      "source": [
        "import math\n",
        "\n",
        "def calculate_equilibrium_constant(reactant_concentrations, product_concentrations, reactant_coefficients, product_coefficients):\n",
        "    equilibrium_constant = 1.0\n",
        "    for i in range(len(product_concentrations)):\n",
        "        equilibrium_constant *= product_concentrations[i] ** product_coefficients[i]\n",
        "    for i in range(len(reactant_concentrations)):\n",
        "        equilibrium_constant /= reactant_concentrations[i] ** reactant_coefficients[i]\n",
        "    return equilibrium_constant\n",
        "\n",
        "def calculate_reaction_index(reactant_concentrations, product_concentrations, reactant_coefficients, product_coefficients):\n",
        "    reaction_index = 1.0\n",
        "    for i in range(len(product_concentrations)):\n",
        "        reaction_index *= product_concentrations[i] ** product_coefficients[i]\n",
        "    for i in range(len(reactant_concentrations)):\n",
        "        reaction_index /= reactant_concentrations[i] ** reactant_coefficients[i]\n",
        "    return reaction_index\n",
        "\n",
        "def predict_chemical_reaction(equilibrium_constant, reaction_index):\n",
        "    if reaction_index < equilibrium_constant:\n",
        "        print(\"이 반응은 정방향으로 반응한다.\")\n",
        "    elif reaction_index > equilibrium_constant:\n",
        "        print(\"이 반응은 역방향으로 반응한다.\")\n",
        "    else:\n",
        "        print(\"평형상태임.\")\n",
        "\n",
        "num_reactants = int(input(\"반응물의 물질 개수: \"))\n",
        "num_products = int(input(\"생성물의 물질 개수: \"))\n",
        "\n",
        "eq_reactant_concentrations = []\n",
        "reactant_concentrations = []\n",
        "reactant_coefficients = []\n",
        "eq_product_concentrations = []\n",
        "product_concentrations = []\n",
        "product_coefficients = []\n",
        "\n",
        "print(\"반응물의 평형 농도와 화학 빈응 계수를 입력:\")\n",
        "for i in range(num_reactants):\n",
        "    eq_concentration = float(input(f\"반응물 {i +1}의 평형 농도: \"))\n",
        "    concentration = float(input(f\"반응물 {i +1}의 현재 농도: \"))\n",
        "    coefficient = int(input(f\"반응물 {i + 1}의 화학 반응 계수: \"))\n",
        "    reactant_concentrations.append(concentration)\n",
        "    reactant_coefficients.append(coefficient)\n",
        "    eq_reactant_concentrations.append(eq_concentration)\n",
        "\n",
        "print(\"생성물의 평형 농도와 화학 반응 계수를 입력:\")\n",
        "for i in range(num_products):\n",
        "    eq_concentration = float(input(f\"생성물 {i +1}의 평형 농도: \"))\n",
        "    concentration = float(input(f\"생성물 {i +1}의 현재 농도: \"))\n",
        "    coefficient = int(input(f\"생성물 {i +1}의 화학 반응 계수: \"))\n",
        "    product_concentrations.append(concentration)\n",
        "    product_coefficients.append(coefficient)\n",
        "    eq_product_concentrations.append(eq_concentration)\n",
        "\n",
        "equilibrium_constant = calculate_equilibrium_constant(eq_reactant_concentrations, eq_product_concentrations, reactant_coefficients, product_coefficients)\n",
        "reaction_index = calculate_reaction_index(reactant_concentrations, product_concentrations, reactant_coefficients, product_coefficients)\n",
        "\n",
        "print(\"평형 상수:\", equilibrium_constant)\n",
        "print(\"반응 지수:\", reaction_index)\n",
        "\n",
        "predict_chemical_reaction(equilibrium_constant, reaction_index)"
      ],
      "metadata": {
        "colab": {
          "base_uri": "https://localhost:8080/"
        },
        "id": "3ENktKWAKDq7",
        "outputId": "5efcee44-045b-4e15-829d-2c621138db81"
      },
      "execution_count": 1,
      "outputs": [
        {
          "output_type": "stream",
          "name": "stdout",
          "text": [
            "반응물의 물질 개수: 2\n",
            "생성물의 물질 개수: 1\n",
            "반응물의 평형 농도와 화학 빈응 계수를 입력:\n",
            "반응물 1의 평형 농도: 2\n",
            "반응물 1의 현재 농도: 2\n",
            "반응물 1의 화학 반응 계수: 2\n",
            "반응물 2의 평형 농도: 1\n",
            "반응물 2의 현재 농도: 2\n",
            "반응물 2의 화학 반응 계수: 3\n",
            "생성물의 평형 농도와 화학 반응 계수를 입력:\n",
            "생성물 1의 평형 농도: 2\n",
            "생성물 1의 현재 농도: 1\n",
            "생성물 1의 화학 반응 계수: 3\n",
            "평형 상수: 2.0\n",
            "반응 지수: 0.03125\n",
            "이 반응은 정방향으로 반응한다.\n"
          ]
        }
      ]
    }
  ]
}