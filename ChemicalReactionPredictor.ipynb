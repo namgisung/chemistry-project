{
  "nbformat": 4,
  "nbformat_minor": 0,
  "metadata": {
    "colab": {
      "provenance": [],
      "authorship_tag": "ABX9TyOpgzt07o2HoPjgZHwDWuHa",
      "include_colab_link": true
    },
    "kernelspec": {
      "name": "python3",
      "display_name": "Python 3"
    },
    "language_info": {
      "name": "python"
    }
  },
  "cells": [
    {
      "cell_type": "markdown",
      "metadata": {
        "id": "view-in-github",
        "colab_type": "text"
      },
      "source": [
        "<a href=\"https://colab.research.google.com/github/namgisung/chemistry-project/blob/master/ChemicalReactionPredictor.ipynb\" target=\"_parent\"><img src=\"https://colab.research.google.com/assets/colab-badge.svg\" alt=\"Open In Colab\"/></a>"
      ]
    },
    {
      "cell_type": "code",
      "execution_count": null,
      "metadata": {
        "id": "_lQQSYkrThdK"
      },
      "outputs": [],
      "source": [
        "import math\n",
        "\n",
        "def calculate_equilibrium_constant(reactant_concentrations, product_concentrations, reactant_coefficients, product_coefficients):\n",
        "    equilibrium_constant = 1.0\n",
        "    for i in range(len(product_concentrations)):\n",
        "        equilibrium_constant *= product_concentrations[i] ** product_coefficients[i]\n",
        "    for i in range(len(reactant_concentrations)):\n",
        "        equilibrium_constant /= reactant_concentrations[i] ** reactant_coefficients[i]\n",
        "    return equilibrium_constant\n",
        "\n",
        "def calculate_reaction_index(reactant_concentrations, product_concentrations, reactant_coefficients, product_coefficients):\n",
        "    reaction_index = 0.0\n",
        "    for i in range(len(product_concentrations)):\n",
        "        reaction_index += product_coefficients[i] * math.log(product_concentrations[i])\n",
        "    for i in range(len(reactant_concentrations)):\n",
        "        reaction_index -= reactant_coefficients[i] * math.log(reactant_concentrations[i])\n",
        "    return reaction_index\n",
        "\n",
        "def chemical_reaction(equilibrium_constant, reaction_index):\n",
        "    if reaction_index > 0:\n",
        "        print(\"The reaction is spontaneous and will proceed to the right.\")\n",
        "    elif reaction_index < 0:\n",
        "        print(\"The reaction is non-spontaneous and will proceed to the left.\")\n",
        "    else:\n",
        "        print(\"The reaction is at equilibrium.\")\n",
        "\n",
        "def main():\n",
        "    num_reactants = int(input(\"Enter the number of reactants: \"))\n",
        "    num_products = int(input(\"Enter the number of products: \"))\n",
        "\n",
        "    reactant_concentrations = []\n",
        "    reactant_coefficients = []\n",
        "    product_concentrations = []\n",
        "    product_coefficients = []\n",
        "\n",
        "    print(\"Enter the concentrations and stoichiometric coefficients for reactants:\")\n",
        "    for i in range(num_reactants):\n",
        "        concentration = float(input(f\"Concentration of reactant {i + 1}: \"))\n",
        "        coefficient = int(input(f\"Stoichiometric coefficient of reactant {i + 1}: \"))\n",
        "        reactant_concentrations.append(concentration)\n",
        "        reactant_coefficients.append(coefficient)\n",
        "\n",
        "    print(\"Enter the concentrations and stoichiometric coefficients for products:\")\n",
        "    for i in range(num_products):\n",
        "        concentration = float(input(f\"Concentration of product {i + 1}: \"))\n",
        "        coefficient = int(input(f\"Stoichiometric coefficient of product {i + 1}: \"))\n",
        "        product_concentrations.append(concentration)\n",
        "        product_coefficients.append(coefficient)\n",
        "\n",
        "    equilibrium_constant = calculate_equilibrium_constant(reactant_concentrations, product_concentrations, reactant_coefficients, product_coefficients)\n",
        "    reaction_index = calculate_reaction_index(reactant_concentrations, product_concentrations, reactant_coefficients, product_coefficients)\n",
        "\n",
        "    print(\"Equilibrium constant:\", equilibrium_constant)\n",
        "    print(\"Reaction index:\", reaction_index)\n",
        "\n",
        "    predict_chemical_reaction(equilibrium_constant, reaction_index)\n",
        "\n",
        "if __name__ == \"__main__\":\n",
        "    main()\n"
      ]
    }
  ]
}